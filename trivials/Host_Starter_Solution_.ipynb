{
 "cells": [
  {
   "cell_type": "code",
   "execution_count": null,
   "metadata": {
    "id": "Fuy79Sq566S5"
   },
   "outputs": [],
   "source": [
    "# # IMPORTANT: SOME KAGGLE DATA SOURCES ARE PRIVATE\n",
    "# # RUN THIS CELL IN ORDER TO IMPORT YOUR KAGGLE DATA SOURCES.\n",
    "# import kagglehub\n",
    "# kagglehub.login()\n"
   ]
  },
  {
   "cell_type": "code",
   "execution_count": null,
   "metadata": {
    "id": "RB05xlAe66S6"
   },
   "outputs": [],
   "source": [
    "# # IMPORTANT: RUN THIS CELL IN ORDER TO IMPORT YOUR KAGGLE DATA SOURCES,\n",
    "# # THEN FEEL FREE TO DELETE THIS CELL.\n",
    "# # NOTE: THIS NOTEBOOK ENVIRONMENT DIFFERS FROM KAGGLE'S PYTHON\n",
    "# # ENVIRONMENT SO THERE MAY BE MISSING LIBRARIES USED BY YOUR\n",
    "# # NOTEBOOK.\n",
    "\n",
    "# ariel_data_challenge_2024_path = kagglehub.competition_download('ariel-data-challenge-2024')\n",
    "# gordonyip_baseline_img_path = kagglehub.dataset_download('gordonyip/baseline-img')\n",
    "# gordonyip_binned_dataset_v3_path = kagglehub.dataset_download('gordonyip/binned-dataset-v3')\n",
    "\n",
    "# print('Data source import complete.')\n"
   ]
  },
  {
   "cell_type": "markdown",
   "metadata": {},
   "source": [
    "ref: https://www.kaggle.com/code/gordonyip/host-starter-solution"
   ]
  },
  {
   "cell_type": "markdown",
   "metadata": {
    "id": "was4_fLE66S7"
   },
   "source": [
    "# ADC 2024 starter notebook"
   ]
  },
  {
   "cell_type": "markdown",
   "metadata": {
    "id": "ykfF7aVE66S8"
   },
   "source": [
    "This baseline notebook is designed to offer a starting point for the competiters. Please note that the approach we've taken is not *THE* solution — it's simply ONE possible approach. Our aim is to assist participants in exploring different ways to preprocess and model the data. Please feel free to fork the notebook and save the model/data for your own exploration.\n",
    "\n"
   ]
  },
  {
   "cell_type": "markdown",
   "metadata": {
    "id": "j5TtuMXK66S8"
   },
   "source": [
    "This notebook was prepared by Virginie Batista and Angèle Syty from the Institut d'Astrophysique de Paris, and Orphée Faucoz from Centre National d’Etudes Spatiales (CNES), with support from Gordon Yip and Tara Tahseen from University College London."
   ]
  },
  {
   "cell_type": "markdown",
   "metadata": {
    "id": "WyhFAoSk66S9"
   },
   "source": [
    "# READ THIS BEFORE YOU PROCEED\n",
    "This training procedure uses the light dataset produced from this [notebook (Version 5)](https://www.kaggle.com/code/gordonyip/update-calibrating-and-binning-astronomical-data). We applied all the calibration steps EXCEPT Linearity Correction with Chunksize = 1. The binned dataset is available to download [here](https://www.kaggle.com/datasets/gordonyip/binned-dataset-v3/data). *If you want to carry out all the correction, you will have to do so yourself.*\n",
    "\n",
    "\n",
    "**This notebook will only provide the model checkpoints, you are welcomed to use these checkpoints with your own script and submit to the leaderboard.**"
   ]
  },
  {
   "cell_type": "markdown",
   "metadata": {
    "id": "Qj8A0u2R66S9"
   },
   "source": [
    "## Task overview"
   ]
  },
  {
   "cell_type": "markdown",
   "metadata": {
    "id": "Y1-ye_gZ66S-"
   },
   "source": [
    "The challenge's primary objective is to process these exposures to produce a single, clean spectrum for each exoplanet, summarizing the rp/rs values across all wavelengths.\n",
    "\n",
    "The exposure are subject to noises and the images or spectrum are not perfect. The Jitter noise has a complex signature that the ML model should recognize to produce a better spectra.\n",
    "\n",
    "Different techniques are possible and are up to the participant imagination to produce a novel (and hopefully better) solution to this task.\n",
    "\n",
    "Here outline our baseline approach :\n",
    "\n",
    "We first fit  a 1D CNN to fit the mean value of the transmission spectra, taking as input the transit white curve (total flux of each image taken as a function of time).\n",
    "\n",
    "For the second part of the baseline, to retrieve the atmopsheric features, we make the data lighter by summing up the fluxes along the y-axis, for each wavelength, resulting in 2D images of dimension (N_times, N_wavelengths). We also cut the signal to remove the out of transit in order to enhance transit depth variations between wavelengths. For the same reason, we substract the mean flux, corresponding to the average transit depth, to keep only wavelength variations around this mean. We use a 2D CNN to fit the atmospheric features.\n"
   ]
  },
  {
   "cell_type": "code",
   "execution_count": null,
   "metadata": {
    "execution": {
     "iopub.execute_input": "2024-08-28T10:17:01.078153Z",
     "iopub.status.busy": "2024-08-28T10:17:01.0771Z",
     "iopub.status.idle": "2024-08-28T10:17:01.637171Z",
     "shell.execute_reply": "2024-08-28T10:17:01.636235Z",
     "shell.execute_reply.started": "2024-08-28T10:17:01.078118Z"
    },
    "id": "9RHNHF0M66S-"
   },
   "outputs": [],
   "source": [
    "# import matplotlib.image as mpimg\n",
    "# import matplotlib.pyplot as plt\n",
    "\n",
    "# img = mpimg.imread('/kaggle/input/baseline-img/2nd_baseline.png')\n",
    "# plt.figure(figsize=(10, 15))\n",
    "# plt.imshow(img)\n",
    "# plt.axis('off')\n",
    "# plt.show()"
   ]
  },
  {
   "cell_type": "markdown",
   "metadata": {
    "id": "AJXjYrRJ66S_"
   },
   "source": [
    "# Import library\n",
    "<a id=\"import\"></a>"
   ]
  },
  {
   "cell_type": "code",
   "execution_count": 1,
   "metadata": {
    "id": "i1wvjJSL66S_",
    "tags": []
   },
   "outputs": [
    {
     "name": "stderr",
     "output_type": "stream",
     "text": [
      "2024-11-28 02:23:34.543287: E tensorflow/compiler/xla/stream_executor/cuda/cuda_dnn.cc:9342] Unable to register cuDNN factory: Attempting to register factory for plugin cuDNN when one has already been registered\n",
      "2024-11-28 02:23:34.545247: E tensorflow/compiler/xla/stream_executor/cuda/cuda_fft.cc:609] Unable to register cuFFT factory: Attempting to register factory for plugin cuFFT when one has already been registered\n",
      "2024-11-28 02:23:34.549616: E tensorflow/compiler/xla/stream_executor/cuda/cuda_blas.cc:1518] Unable to register cuBLAS factory: Attempting to register factory for plugin cuBLAS when one has already been registered\n",
      "2024-11-28 02:23:35.260010: I tensorflow/core/platform/cpu_feature_guard.cc:182] This TensorFlow binary is optimized to use available CPU instructions in performance-critical operations.\n",
      "To enable the following instructions: AVX2 AVX512F FMA, in other operations, rebuild TensorFlow with the appropriate compiler flags.\n",
      "2024-11-28 02:23:43.655005: W tensorflow/compiler/tf2tensorrt/utils/py_utils.cc:38] TF-TRT Warning: Could not find TensorRT\n"
     ]
    }
   ],
   "source": [
    "import numpy as np\n",
    "import matplotlib.pyplot as plt\n",
    "from tensorflow.keras.models import load_model\n",
    "import tensorflow as tf\n",
    "import random\n",
    "import os\n",
    "from tensorflow.keras.losses import MeanAbsoluteError\n",
    "from matplotlib.ticker import ScalarFormatter\n",
    "import pandas as pd\n",
    "\n"
   ]
  },
  {
   "cell_type": "markdown",
   "metadata": {
    "id": "ooh4BH6u66S_"
   },
   "source": [
    "# Setup Paths and Read Data"
   ]
  },
  {
   "cell_type": "code",
   "execution_count": 2,
   "metadata": {
    "id": "71XNEnp266TA",
    "tags": []
   },
   "outputs": [],
   "source": [
    "data_folder = '/home/ulaval.ca/maelr5/scratch/binned-dataset-v1/' # path to the folder containing the data\n",
    "auxiliary_folder = '/home/ulaval.ca/maelr5/scratch/ariel-data-challenge/' # path to the folder containing the train targets and wavelengths informations\n",
    "\n"
   ]
  },
  {
   "cell_type": "code",
   "execution_count": 3,
   "metadata": {
    "id": "QcTDNxoM66TA",
    "tags": []
   },
   "outputs": [],
   "source": [
    "data_train = np.load(f'{data_folder}/data_train.npy')\n",
    "data_train_FGS = np.load(f'{data_folder}/data_train_FGS.npy')\n"
   ]
  },
  {
   "cell_type": "markdown",
   "metadata": {
    "id": "qX-XiI5j66TA"
   },
   "source": [
    "We create a directory to save the outputs of this notebook, and define the hyperparameters of the model"
   ]
  },
  {
   "cell_type": "code",
   "execution_count": 4,
   "metadata": {
    "id": "uhZXpS3666TA",
    "tags": []
   },
   "outputs": [
    {
     "name": "stdout",
     "output_type": "stream",
     "text": [
      "Directory /home/ulaval.ca/maelr5/scratch/baseline_output already exists.\n"
     ]
    }
   ],
   "source": [
    "output_dir = '/home/ulaval.ca/maelr5/scratch/baseline_output' #'./output'\n",
    "\n",
    "SEED = 42\n",
    "\n",
    "do_the_mcdropout_wc = True\n",
    "do_the_mcdropout = True\n",
    "\n",
    "if not os.path.exists(output_dir):\n",
    "    os.makedirs(output_dir)\n",
    "    print(f\"Directory {output_dir} created.\")\n",
    "else:\n",
    "    print(f\"Directory {output_dir} already exists.\")\n",
    "\n",
    "\n"
   ]
  },
  {
   "cell_type": "markdown",
   "metadata": {
    "id": "p5wLzuQ966TA"
   },
   "source": [
    "# 1D-CNN for mean transit depth"
   ]
  },
  {
   "cell_type": "markdown",
   "metadata": {
    "id": "gy6wW0FW66TB"
   },
   "source": [
    "## Preprocessing for 1D CNN"
   ]
  },
  {
   "cell_type": "code",
   "execution_count": 5,
   "metadata": {
    "tags": []
   },
   "outputs": [
    {
     "name": "stdout",
     "output_type": "stream",
     "text": [
      "673\n"
     ]
    },
    {
     "data": {
      "text/html": [
       "<div>\n",
       "<style scoped>\n",
       "    .dataframe tbody tr th:only-of-type {\n",
       "        vertical-align: middle;\n",
       "    }\n",
       "\n",
       "    .dataframe tbody tr th {\n",
       "        vertical-align: top;\n",
       "    }\n",
       "\n",
       "    .dataframe thead th {\n",
       "        text-align: right;\n",
       "    }\n",
       "</style>\n",
       "<table border=\"1\" class=\"dataframe\">\n",
       "  <thead>\n",
       "    <tr style=\"text-align: right;\">\n",
       "      <th></th>\n",
       "      <th>planet_id</th>\n",
       "      <th>wl_1</th>\n",
       "      <th>wl_2</th>\n",
       "      <th>wl_3</th>\n",
       "      <th>wl_4</th>\n",
       "      <th>wl_5</th>\n",
       "      <th>wl_6</th>\n",
       "      <th>wl_7</th>\n",
       "      <th>wl_8</th>\n",
       "      <th>wl_9</th>\n",
       "      <th>...</th>\n",
       "      <th>wl_274</th>\n",
       "      <th>wl_275</th>\n",
       "      <th>wl_276</th>\n",
       "      <th>wl_277</th>\n",
       "      <th>wl_278</th>\n",
       "      <th>wl_279</th>\n",
       "      <th>wl_280</th>\n",
       "      <th>wl_281</th>\n",
       "      <th>wl_282</th>\n",
       "      <th>wl_283</th>\n",
       "    </tr>\n",
       "  </thead>\n",
       "  <tbody>\n",
       "    <tr>\n",
       "      <th>0</th>\n",
       "      <td>785834</td>\n",
       "      <td>0.001086</td>\n",
       "      <td>0.001137</td>\n",
       "      <td>0.001131</td>\n",
       "      <td>0.001124</td>\n",
       "      <td>0.001138</td>\n",
       "      <td>0.001131</td>\n",
       "      <td>0.001123</td>\n",
       "      <td>0.001127</td>\n",
       "      <td>0.001120</td>\n",
       "      <td>...</td>\n",
       "      <td>0.001075</td>\n",
       "      <td>0.001076</td>\n",
       "      <td>0.001076</td>\n",
       "      <td>0.001076</td>\n",
       "      <td>0.001074</td>\n",
       "      <td>0.001073</td>\n",
       "      <td>0.001072</td>\n",
       "      <td>0.001073</td>\n",
       "      <td>0.001073</td>\n",
       "      <td>0.001072</td>\n",
       "    </tr>\n",
       "    <tr>\n",
       "      <th>1</th>\n",
       "      <td>14485303</td>\n",
       "      <td>0.001835</td>\n",
       "      <td>0.001835</td>\n",
       "      <td>0.001834</td>\n",
       "      <td>0.001833</td>\n",
       "      <td>0.001833</td>\n",
       "      <td>0.001833</td>\n",
       "      <td>0.001833</td>\n",
       "      <td>0.001834</td>\n",
       "      <td>0.001834</td>\n",
       "      <td>...</td>\n",
       "      <td>0.001893</td>\n",
       "      <td>0.001892</td>\n",
       "      <td>0.001892</td>\n",
       "      <td>0.001891</td>\n",
       "      <td>0.001891</td>\n",
       "      <td>0.001891</td>\n",
       "      <td>0.001890</td>\n",
       "      <td>0.001890</td>\n",
       "      <td>0.001889</td>\n",
       "      <td>0.001888</td>\n",
       "    </tr>\n",
       "    <tr>\n",
       "      <th>2</th>\n",
       "      <td>17002355</td>\n",
       "      <td>0.002792</td>\n",
       "      <td>0.002814</td>\n",
       "      <td>0.002808</td>\n",
       "      <td>0.002804</td>\n",
       "      <td>0.002809</td>\n",
       "      <td>0.002805</td>\n",
       "      <td>0.002802</td>\n",
       "      <td>0.002805</td>\n",
       "      <td>0.002801</td>\n",
       "      <td>...</td>\n",
       "      <td>0.002784</td>\n",
       "      <td>0.002783</td>\n",
       "      <td>0.002783</td>\n",
       "      <td>0.002783</td>\n",
       "      <td>0.002783</td>\n",
       "      <td>0.002784</td>\n",
       "      <td>0.002784</td>\n",
       "      <td>0.002785</td>\n",
       "      <td>0.002785</td>\n",
       "      <td>0.002784</td>\n",
       "    </tr>\n",
       "    <tr>\n",
       "      <th>3</th>\n",
       "      <td>24135240</td>\n",
       "      <td>0.001294</td>\n",
       "      <td>0.001308</td>\n",
       "      <td>0.001308</td>\n",
       "      <td>0.001306</td>\n",
       "      <td>0.001306</td>\n",
       "      <td>0.001303</td>\n",
       "      <td>0.001306</td>\n",
       "      <td>0.001314</td>\n",
       "      <td>0.001314</td>\n",
       "      <td>...</td>\n",
       "      <td>0.001405</td>\n",
       "      <td>0.001404</td>\n",
       "      <td>0.001403</td>\n",
       "      <td>0.001402</td>\n",
       "      <td>0.001401</td>\n",
       "      <td>0.001400</td>\n",
       "      <td>0.001399</td>\n",
       "      <td>0.001397</td>\n",
       "      <td>0.001395</td>\n",
       "      <td>0.001393</td>\n",
       "    </tr>\n",
       "    <tr>\n",
       "      <th>4</th>\n",
       "      <td>25070640</td>\n",
       "      <td>0.001987</td>\n",
       "      <td>0.001987</td>\n",
       "      <td>0.001987</td>\n",
       "      <td>0.001987</td>\n",
       "      <td>0.001987</td>\n",
       "      <td>0.001987</td>\n",
       "      <td>0.001987</td>\n",
       "      <td>0.001987</td>\n",
       "      <td>0.001987</td>\n",
       "      <td>...</td>\n",
       "      <td>0.001988</td>\n",
       "      <td>0.001988</td>\n",
       "      <td>0.001988</td>\n",
       "      <td>0.001988</td>\n",
       "      <td>0.001988</td>\n",
       "      <td>0.001988</td>\n",
       "      <td>0.001988</td>\n",
       "      <td>0.001988</td>\n",
       "      <td>0.001988</td>\n",
       "      <td>0.001988</td>\n",
       "    </tr>\n",
       "  </tbody>\n",
       "</table>\n",
       "<p>5 rows × 284 columns</p>\n",
       "</div>"
      ],
      "text/plain": [
       "   planet_id      wl_1      wl_2      wl_3      wl_4      wl_5      wl_6  \\\n",
       "0     785834  0.001086  0.001137  0.001131  0.001124  0.001138  0.001131   \n",
       "1   14485303  0.001835  0.001835  0.001834  0.001833  0.001833  0.001833   \n",
       "2   17002355  0.002792  0.002814  0.002808  0.002804  0.002809  0.002805   \n",
       "3   24135240  0.001294  0.001308  0.001308  0.001306  0.001306  0.001303   \n",
       "4   25070640  0.001987  0.001987  0.001987  0.001987  0.001987  0.001987   \n",
       "\n",
       "       wl_7      wl_8      wl_9  ...    wl_274    wl_275    wl_276    wl_277  \\\n",
       "0  0.001123  0.001127  0.001120  ...  0.001075  0.001076  0.001076  0.001076   \n",
       "1  0.001833  0.001834  0.001834  ...  0.001893  0.001892  0.001892  0.001891   \n",
       "2  0.002802  0.002805  0.002801  ...  0.002784  0.002783  0.002783  0.002783   \n",
       "3  0.001306  0.001314  0.001314  ...  0.001405  0.001404  0.001403  0.001402   \n",
       "4  0.001987  0.001987  0.001987  ...  0.001988  0.001988  0.001988  0.001988   \n",
       "\n",
       "     wl_278    wl_279    wl_280    wl_281    wl_282    wl_283  \n",
       "0  0.001074  0.001073  0.001072  0.001073  0.001073  0.001072  \n",
       "1  0.001891  0.001891  0.001890  0.001890  0.001889  0.001888  \n",
       "2  0.002783  0.002784  0.002784  0.002785  0.002785  0.002784  \n",
       "3  0.001401  0.001400  0.001399  0.001397  0.001395  0.001393  \n",
       "4  0.001988  0.001988  0.001988  0.001988  0.001988  0.001988  \n",
       "\n",
       "[5 rows x 284 columns]"
      ]
     },
     "execution_count": 5,
     "metadata": {},
     "output_type": "execute_result"
    }
   ],
   "source": [
    "train_df = pd.read_csv(f'{auxiliary_folder}/train_labels.csv')\n",
    "print(len(train_df))\n",
    "train_df.head()\n"
   ]
  },
  {
   "cell_type": "code",
   "execution_count": 6,
   "metadata": {
    "id": "tckFkj4H66TB",
    "tags": []
   },
   "outputs": [
    {
     "name": "stdout",
     "output_type": "stream",
     "text": [
      "673 (673, 283) (673,)\n"
     ]
    }
   ],
   "source": [
    "train_solution = np.loadtxt(f'{auxiliary_folder}/train_labels.csv', delimiter = ',', skiprows = 1)\n",
    "\n",
    "targets = train_solution[:,1:]\n",
    "targets_mean = targets[:,1:].mean(axis = 1) # used for the 1D-CNN to extract the mean value, only AIRS wavelengths as the FGS point is not used in the white curve\n",
    "N = targets.shape[0]\n",
    "print(N, targets.shape, targets_mean.shape)\n"
   ]
  },
  {
   "cell_type": "markdown",
   "metadata": {
    "id": "8lPHk66j66TB"
   },
   "source": [
    "We create the dataset by adding the FGS frame, crushed in one column, at the end of the AIRS data cube.  \n",
    "The images are normalized using the star spectrum extracted from the images themselves."
   ]
  },
  {
   "cell_type": "code",
   "execution_count": 7,
   "metadata": {
    "tags": []
   },
   "outputs": [
    {
     "data": {
      "text/plain": [
       "((673, 187, 282, 32), (673, 187, 32, 32))"
      ]
     },
     "execution_count": 7,
     "metadata": {},
     "output_type": "execute_result"
    }
   ],
   "source": [
    "data_train.shape, data_train_FGS.shape\n",
    "\n"
   ]
  },
  {
   "cell_type": "code",
   "execution_count": 8,
   "metadata": {
    "id": "jKWIOD6T66TB",
    "tags": []
   },
   "outputs": [
    {
     "name": "stdout",
     "output_type": "stream",
     "text": [
      "dataset shape=  (673, 187, 283, 32)\n"
     ]
    }
   ],
   "source": [
    "signal_AIRS_diff_transposed_binned, signal_FGS_diff_transposed_binned  = data_train, data_train_FGS\n",
    "FGS_column = signal_FGS_diff_transposed_binned.sum(axis = 2)\n",
    "dataset = np.concatenate([signal_AIRS_diff_transposed_binned, FGS_column[:,:, np.newaxis,:]], axis = 2)\n",
    "print('dataset shape= ', dataset.shape)\n",
    "\n"
   ]
  },
  {
   "cell_type": "markdown",
   "metadata": {
    "id": "tMNJhTwL66TB"
   },
   "source": [
    "we sum up the pixels on the y-axis to transform the data into 2D images"
   ]
  },
  {
   "cell_type": "code",
   "execution_count": 9,
   "metadata": {
    "id": "RSMd4MtY66TB",
    "tags": []
   },
   "outputs": [
    {
     "name": "stdout",
     "output_type": "stream",
     "text": [
      "dataset shape=  (673, 187, 283)\n"
     ]
    }
   ],
   "source": [
    "dataset = dataset.sum(axis=3)\n",
    "print('dataset shape= ', dataset.shape)\n"
   ]
  },
  {
   "cell_type": "markdown",
   "metadata": {
    "id": "lT2SMapc66TC"
   },
   "source": [
    "We divide the images by the star flux assuming the first and last 50 instants belong to the out of transit."
   ]
  },
  {
   "cell_type": "code",
   "execution_count": 10,
   "metadata": {
    "id": "oojaGjpq66TC",
    "tags": []
   },
   "outputs": [
    {
     "name": "stdout",
     "output_type": "stream",
     "text": [
      "(673, 187, 283)\n",
      "(673, 283, 187)\n"
     ]
    }
   ],
   "source": [
    "def create_dataset_norm(dataset1, dataset2) :\n",
    "    dataset_norm1 = np.zeros(dataset1.shape)\n",
    "    dataset_norm2 = np.zeros(dataset1.shape)\n",
    "    dataset_min = dataset1.min()\n",
    "    dataset_max = dataset1.max()\n",
    "    dataset_norm1 = (dataset1 - dataset_min) / (dataset_max - dataset_min)\n",
    "    dataset_norm2 = (dataset2 - dataset_min) / (dataset_max - dataset_min)\n",
    "    return dataset_norm1, dataset_norm2\n",
    "\n",
    "\n",
    "def norm_star_spectrum (signal) :\n",
    "    img_star = signal[:,:50].mean(axis = 1) + signal[:,-50:].mean(axis = 1)\n",
    "    return signal/img_star[:,np.newaxis,:]\n",
    "\n",
    "dataset_norm = norm_star_spectrum(dataset)\n",
    "print(dataset_norm.shape)\n",
    "dataset_norm = np.transpose(dataset_norm,(0,2,1))\n",
    "print(dataset_norm.shape)\n",
    "\n"
   ]
  },
  {
   "cell_type": "markdown",
   "metadata": {
    "id": "F9as3E4I66TC"
   },
   "source": [
    "## Split the targets and observations between valid and train\n",
    "\n",
    "We start by computing a \"white curve\", that is actually the sum of the signal over the all image, as a function of time. We split the data and normalize the train/valid/test data."
   ]
  },
  {
   "cell_type": "code",
   "execution_count": 11,
   "metadata": {
    "id": "pso_iw9S66TC",
    "tags": []
   },
   "outputs": [
    {
     "data": {
      "text/plain": [
       "((605, 283, 187), (68, 283, 187), (605, 283), (68, 283))"
      ]
     },
     "execution_count": 11,
     "metadata": {},
     "output_type": "execute_result"
    }
   ],
   "source": [
    "cut_inf, cut_sup = 39, 321 # we have previously cut the data along the wavelengths to remove the edges, this is to match with the targets range in the make data \n",
    "# file\n",
    "l = cut_sup - cut_inf + 1\n",
    "wls = np.arange(l)\n",
    "\n",
    "\n",
    "def split (data, N) :\n",
    "    list_planets = random.sample(range(0, data.shape[0]), N_train)\n",
    "    list_index_1 = np.zeros(data.shape[0], dtype = bool)\n",
    "    for planet in list_planets :\n",
    "        list_index_1[planet] = True\n",
    "    data_1 = data[list_index_1]\n",
    "    data_2 = data[~list_index_1]\n",
    "    return data_1, data_2, list_index_1\n",
    "\n",
    "N_train = 8*N//10\n",
    "\n",
    "# Validation and train data split\n",
    "train_obs, valid_obs, list_index_train = split(dataset_norm, N_train)\n",
    "train_targets, valid_targets = targets[list_index_train], targets[~list_index_train]\n",
    "\n",
    "\n",
    "train_obs.shape, valid_obs.shape, train_targets.shape, valid_targets.shape\n"
   ]
  },
  {
   "cell_type": "code",
   "execution_count": 12,
   "metadata": {
    "id": "bOUlYJX766TC",
    "tags": []
   },
   "outputs": [],
   "source": [
    "signal_AIRS_diff_transposed_binned = signal_AIRS_diff_transposed_binned.sum(axis=3)\n",
    "wc_mean = signal_AIRS_diff_transposed_binned.mean(axis=1).mean(axis=1)\n",
    "white_curve = signal_AIRS_diff_transposed_binned.sum(axis=2)/ wc_mean[:, np.newaxis]\n",
    "\n",
    "def normalise_wlc(train, valid) :\n",
    "\n",
    "    wlc_train_min = train.min()\n",
    "    wlc_train_max = train.max()\n",
    "    train_norm = (train - wlc_train_min) / (wlc_train_max - wlc_train_min)\n",
    "    valid_norm = (valid - wlc_train_min) / (wlc_train_max - wlc_train_min)\n",
    "\n",
    "    return train_norm, valid_norm\n",
    "\n",
    "def normalize(train, valid) :\n",
    "    max_train = train.max()\n",
    "    min_train = train.min()\n",
    "    train_norm = (train - min_train) / (max_train - min_train)\n",
    "    valid_norm = (valid - min_train) / (max_train - min_train)\n",
    "    return train_norm, valid_norm, min_train, max_train\n",
    "\n",
    "# Split the light curves and targets\n",
    "train_wc, valid_wc = white_curve[list_index_train], white_curve[~list_index_train]\n",
    "train_targets_wc, valid_targets_wc = targets_mean[list_index_train], targets_mean[~list_index_train]\n",
    "\n",
    "# Normalize the wlc\n",
    "train_wc, valid_wc = normalise_wlc(train_wc, valid_wc)\n",
    "\n",
    "# Normalize the targets\n",
    "train_targets_wc_norm, valid_targets_wc_norm, min_train_valid_wc, max_train_valid_wc = normalize(train_targets_wc,\n",
    "                                                                                                 valid_targets_wc)\n",
    "\n"
   ]
  },
  {
   "cell_type": "code",
   "execution_count": 13,
   "metadata": {
    "tags": []
   },
   "outputs": [
    {
     "data": {
      "text/plain": [
       "((605, 187),\n",
       " (68, 187),\n",
       " (605,),\n",
       " (68,),\n",
       " 0.0003986691051293762,\n",
       " 0.007354582286725231)"
      ]
     },
     "execution_count": 13,
     "metadata": {},
     "output_type": "execute_result"
    }
   ],
   "source": [
    "train_wc.shape, valid_wc.shape, train_targets_wc_norm.shape, valid_targets_wc_norm.shape, min_train_valid_wc, max_train_valid_wc\n",
    "\n"
   ]
  },
  {
   "cell_type": "code",
   "execution_count": 14,
   "metadata": {
    "id": "TpvPCClp66TD",
    "tags": []
   },
   "outputs": [
    {
     "data": {
      "image/png": "[encoded data removed]",
      "text/plain": [
       "<Figure size 432x288 with 1 Axes>"
      ]
     },
     "metadata": {
      "needs_background": "light"
     },
     "output_type": "display_data"
    }
   ],
   "source": [
    "plt.figure()\n",
    "for i in range (200) :\n",
    "    plt.plot(train_wc[-i], '-', alpha = 0.5)\n",
    "plt.title('Light-curves from the train set')\n",
    "plt.xlabel('Time')\n",
    "plt.ylabel('Normalized flux')\n",
    "plt.show()"
   ]
  },
  {
   "cell_type": "markdown",
   "metadata": {
    "id": "wBEimf1Z66TD"
   },
   "source": [
    "## Train 1D CNN\n",
    "The model to estimate the mean of the target spectrum using the white light-curve is a 1D-CNN with Dropout layers to make a MC Dropout prediction."
   ]
  },
  {
   "cell_type": "code",
   "execution_count": 15,
   "metadata": {
    "id": "0wKqMLmt66TD",
    "tags": []
   },
   "outputs": [
    {
     "name": "stderr",
     "output_type": "stream",
     "text": [
      "2024-11-28 02:25:34.141451: I tensorflow/core/common_runtime/gpu/gpu_device.cc:1886] Created device /job:localhost/replica:0/task:0/device:GPU:0 with 14784 MB memory:  -> device: 0, name: Tesla V100-PCIE-16GB, pci bus id: 0000:3b:00.0, compute capability: 7.0\n"
     ]
    },
    {
     "name": "stdout",
     "output_type": "stream",
     "text": [
      "Model: \"model\"\n",
      "_________________________________________________________________\n",
      " Layer (type)                Output Shape              Param #   \n",
      "=================================================================\n",
      " input_1 (InputLayer)        [(None, 187, 1)]          0         \n",
      "                                                                 \n",
      " conv1d (Conv1D)             (None, 185, 32)           128       \n",
      "                                                                 \n",
      " max_pooling1d (MaxPooling1  (None, 92, 32)            0         \n",
      " D)                                                              \n",
      "                                                                 \n",
      " conv1d_1 (Conv1D)           (None, 90, 64)            6208      \n",
      "                                                                 \n",
      " max_pooling1d_1 (MaxPoolin  (None, 45, 64)            0         \n",
      " g1D)                                                            \n",
      "                                                                 \n",
      " conv1d_2 (Conv1D)           (None, 43, 128)           24704     \n",
      "                                                                 \n",
      " max_pooling1d_2 (MaxPoolin  (None, 21, 128)           0         \n",
      " g1D)                                                            \n",
      "                                                                 \n",
      " conv1d_3 (Conv1D)           (None, 19, 256)           98560     \n",
      "                                                                 \n",
      " max_pooling1d_3 (MaxPoolin  (None, 9, 256)            0         \n",
      " g1D)                                                            \n",
      "                                                                 \n",
      " flatten (Flatten)           (None, 2304)              0         \n",
      "                                                                 \n",
      " dense (Dense)               (None, 500)               1152500   \n",
      "                                                                 \n",
      " dropout (Dropout)           (None, 500)               0         \n",
      "                                                                 \n",
      " dense_1 (Dense)             (None, 100)               50100     \n",
      "                                                                 \n",
      " dropout_1 (Dropout)         (None, 100)               0         \n",
      "                                                                 \n",
      " dense_2 (Dense)             (None, 1)                 101       \n",
      "                                                                 \n",
      "=================================================================\n",
      "Total params: 1332301 (5.08 MB)\n",
      "Trainable params: 1332301 (5.08 MB)\n",
      "Non-trainable params: 0 (0.00 Byte)\n",
      "_________________________________________________________________\n"
     ]
    }
   ],
   "source": [
    "from keras.layers import Input, Conv1D, MaxPooling1D, Flatten, Dense, Dropout, BatchNormalization, Concatenate,AveragePooling1D\n",
    "from keras.models import Model, load_model\n",
    "from tensorflow.keras.optimizers import Adam, SGD\n",
    "from tensorflow.keras.callbacks import LearningRateScheduler, ModelCheckpoint\n",
    "\n",
    "\n",
    "input_wc = Input((187,1))\n",
    "x = Conv1D(32, 3, activation='relu')(input_wc)\n",
    "x = MaxPooling1D()(x)\n",
    "# x = BatchNormalization()(x)\n",
    "x = Conv1D(64, 3, activation='relu')(x)\n",
    "x = MaxPooling1D()(x)\n",
    "x = Conv1D(128, 3, activation='relu')(x)\n",
    "x = MaxPooling1D()(x)\n",
    "x = Conv1D(256, 3, activation='relu')(x)\n",
    "x = MaxPooling1D()(x)\n",
    "x = Flatten()(x)\n",
    "\n",
    "x = Dense(500, activation='relu')(x)\n",
    "x = Dropout(0.2)(x, training = True)\n",
    "x = Dense(100, activation='relu')(x)\n",
    "x = Dropout(0.1)(x, training = True)\n",
    "output_wc = Dense(1, activation='linear')(x)\n",
    "\n",
    "model_wc = Model(inputs=input_wc, outputs=output_wc)\n",
    "model_wc.summary()\n",
    "\n"
   ]
  },
  {
   "cell_type": "code",
   "execution_count": 16,
   "metadata": {
    "tags": []
   },
   "outputs": [
    {
     "data": {
      "text/plain": [
       "(605, 187, 1)"
      ]
     },
     "execution_count": 16,
     "metadata": {},
     "output_type": "execute_result"
    }
   ],
   "source": [
    "train_wc.reshape(train_wc.shape[0], train_wc.shape[1], 1).shape\n",
    "\n"
   ]
  },
  {
   "cell_type": "code",
   "execution_count": null,
   "metadata": {},
   "outputs": [],
   "source": [
    "def scheduler(epoch, lr):\n",
    "    decay_rate = 0.2\n",
    "    decay_step = 200\n",
    "    if epoch % decay_step == 0 and epoch:\n",
    "        return lr * decay_rate\n",
    "    return lr\n",
    "\n",
    "optimizer = SGD(0.001)\n",
    "model_wc.compile(optimizer=optimizer, loss='mse', metrics=[MeanAbsoluteError()])\n",
    "callback = LearningRateScheduler(scheduler)\n",
    "checkpoint_filepath = f'{output_dir}/model_1dcnn.keras'\n",
    "model_ckt = ModelCheckpoint(\n",
    "    checkpoint_filepath,\n",
    "    monitor=\"val_loss\",\n",
    "    verbose=0,\n",
    "    save_best_only=True,\n",
    "    save_weights_only=False,\n",
    "    mode=\"min\",\n",
    "    save_freq=\"epoch\",\n",
    ")\n",
    "\n",
    "print('Running ...')\n",
    "history = model_wc.fit(\n",
    "    x = train_wc,\n",
    "    y = train_targets_wc_norm,\n",
    "    validation_data = (valid_wc, valid_targets_wc_norm),\n",
    "    batch_size=1,\n",
    "    epochs= 1200,\n",
    "    shuffle=True,\n",
    "    verbose=0,\n",
    "    callbacks=[model_ckt]\n",
    "    )\n",
    "print('Done.')\n",
    "\n"
   ]
  },
  {
   "cell_type": "markdown",
   "metadata": {
    "id": "IH5lXj7q66TD"
   },
   "source": [
    "## 1D CNN Inference"
   ]
  },
  {
   "cell_type": "code",
   "execution_count": null,
   "metadata": {
    "execution": {
     "iopub.execute_input": "2024-08-28T10:20:58.864384Z",
     "iopub.status.busy": "2024-08-28T10:20:58.863523Z",
     "iopub.status.idle": "2024-08-28T10:20:59.243754Z",
     "shell.execute_reply": "2024-08-28T10:20:59.242817Z",
     "shell.execute_reply.started": "2024-08-28T10:20:58.864344Z"
    },
    "id": "dExls2gQ66TE"
   },
   "outputs": [],
   "source": [
    "model_wc = load_model(checkpoint_filepath)\n",
    "\n",
    "plt.plot(history.history['loss'], label='Training Loss')\n",
    "plt.plot(history.history['val_loss'], label='Validation Loss')\n",
    "plt.legend()\n",
    "plt.show()\n"
   ]
  },
  {
   "cell_type": "markdown",
   "metadata": {
    "id": "8O6-TGPX66TE"
   },
   "source": [
    "Then, we perform the MC Dropout to obtain the mean prediction and the uncertainty associated. We choose to compute 1000 instances."
   ]
  },
  {
   "cell_type": "code",
   "execution_count": null,
   "metadata": {
    "execution": {
     "iopub.execute_input": "2024-08-28T10:20:59.245395Z",
     "iopub.status.busy": "2024-08-28T10:20:59.245086Z",
     "iopub.status.idle": "2024-08-28T10:22:06.348718Z",
     "shell.execute_reply": "2024-08-28T10:22:06.347692Z",
     "shell.execute_reply.started": "2024-08-28T10:20:59.245368Z"
    },
    "id": "yXqzH4su66TE"
   },
   "outputs": [],
   "source": [
    "nb_dropout_wc = 1000\n",
    "\n",
    "def unstandardizing (data, min_train_valid, max_train_valid) :\n",
    "    return data * (max_train_valid - min_train_valid) + min_train_valid\n",
    "\n",
    "def MC_dropout_WC (model, data, nb_dropout) :\n",
    "    predictions = np.zeros((nb_dropout, data.shape[0]))\n",
    "    for i in range(nb_dropout) :\n",
    "        predictions[i,:] = model.predict(data, verbose = 0).flatten()\n",
    "    return predictions\n",
    "\n",
    "if do_the_mcdropout_wc :\n",
    "    print('Running ...')\n",
    "    prediction_valid_wc = MC_dropout_WC(model_wc, valid_wc, nb_dropout_wc)\n",
    "    spectre_valid_wc_all = unstandardizing(prediction_valid_wc, min_train_valid_wc, max_train_valid_wc)\n",
    "    spectre_valid_wc, spectre_valid_std_wc = spectre_valid_wc_all.mean(axis = 0), spectre_valid_wc_all.std(axis = 0)\n",
    "    print('Done.')\n",
    "\n",
    "else :\n",
    "    spectre_valid_wc = model_wc.predict(valid_wc).flatten()\n",
    "    spectre_valid_wc = unstandardizing(spectre_valid_wc, min_train_valid_wc, max_train_valid_wc)\n",
    "    spectre_valid_std_wc = 0.1*np.abs(spectre_valid_wc)"
   ]
  },
  {
   "cell_type": "code",
   "execution_count": null,
   "metadata": {
    "execution": {
     "iopub.execute_input": "2024-08-28T10:22:06.350187Z",
     "iopub.status.busy": "2024-08-28T10:22:06.349899Z",
     "iopub.status.idle": "2024-08-28T10:22:07.161288Z",
     "shell.execute_reply": "2024-08-28T10:22:07.160204Z",
     "shell.execute_reply.started": "2024-08-28T10:22:06.350161Z"
    },
    "id": "b4m9kBG366TE"
   },
   "outputs": [],
   "source": [
    "residuals = spectre_valid_wc - valid_targets_wc\n",
    "fig, (ax1, ax2) = plt.subplots(2, 1, figsize=(10, 6), sharex=True,\n",
    "                               gridspec_kw={'height_ratios': [3, 1]})\n",
    "\n",
    "ax1.errorbar(x = np.arange(len(spectre_valid_wc)), y = spectre_valid_wc, yerr =spectre_valid_std_wc, fmt = '.', color = 'k', ecolor = 'gray', label='Prediction', alpha=0.8)\n",
    "ax1.fill_between(np.arange(len(spectre_valid_wc)), spectre_valid_wc - spectre_valid_std_wc, spectre_valid_wc + spectre_valid_std_wc, color = 'grey', alpha = 0.5)\n",
    "ax1.vlines(np.arange(len(spectre_valid_wc)),ymin=0, ymax=spectre_valid_wc, colors='r', linestyle='dashed',alpha = 0.1)\n",
    "ax1.plot(valid_targets_wc, 'r.', label='Target', alpha=0.8)\n",
    "ax1.set_xlabel('Concatenated targets')\n",
    "ax1.set_ylabel('$(R_p/R_s)^2$')\n",
    "ax1.set_title('Prediction vs target, mean value of the spectrum, on validation dataset')\n",
    "ax1.legend()\n",
    "\n",
    "ax2.plot(residuals, 'b.', label='Residuals', alpha=0.8)\n",
    "ax2.set_xlabel('Concatenated targets')\n",
    "ax2.set_ylabel('Residuals')\n",
    "ax2.axhline(0, color='black', linestyle='--', linewidth=1)\n",
    "ax2.legend()\n",
    "\n",
    "plt.tight_layout()\n",
    "plt.show()"
   ]
  },
  {
   "cell_type": "code",
   "execution_count": null,
   "metadata": {
    "execution": {
     "iopub.execute_input": "2024-08-28T10:22:07.16275Z",
     "iopub.status.busy": "2024-08-28T10:22:07.162458Z",
     "iopub.status.idle": "2024-08-28T10:22:07.168677Z",
     "shell.execute_reply": "2024-08-28T10:22:07.167535Z",
     "shell.execute_reply.started": "2024-08-28T10:22:07.162727Z"
    },
    "id": "BakooHIo66TE"
   },
   "outputs": [],
   "source": [
    "residuals = valid_targets_wc - spectre_valid_wc\n",
    "print('MSE : ', np.sqrt((residuals**2).mean())*1e6, 'ppm')\n",
    "\n"
   ]
  },
  {
   "cell_type": "code",
   "execution_count": null,
   "metadata": {
    "execution": {
     "iopub.execute_input": "2024-08-28T10:22:07.17009Z",
     "iopub.status.busy": "2024-08-28T10:22:07.169736Z",
     "iopub.status.idle": "2024-08-28T10:22:07.180378Z",
     "shell.execute_reply": "2024-08-28T10:22:07.17937Z",
     "shell.execute_reply.started": "2024-08-28T10:22:07.170064Z"
    },
    "id": "PwGDQKBz66TF"
   },
   "outputs": [],
   "source": [
    "# np.save(f'{output_dir}/pred_valid_wc.npy', spectre_valid_wc)\n",
    "# np.save(f'{output_dir}/targ_valid_wc.npy', valid_targets_wc)\n",
    "# np.save(f'{output_dir}/std_valid_wc.npy', spectre_valid_std_wc)\n",
    "\n"
   ]
  },
  {
   "cell_type": "markdown",
   "metadata": {
    "id": "g1V0D5iD66TL"
   },
   "source": [
    "# 2D CNN for atmospheric features\n",
    "\n",
    "<a id=\"fluctu\"></a>\n",
    "We now remove the mean value (transit depth) of the spectra to keep the atmospheric features only"
   ]
  },
  {
   "cell_type": "markdown",
   "metadata": {
    "id": "lpqlv-EI66TL"
   },
   "source": [
    "## Preprocessing for 2D CNN"
   ]
  },
  {
   "cell_type": "code",
   "execution_count": 26,
   "metadata": {
    "id": "iUrsXkXs66TL",
    "tags": []
   },
   "outputs": [
    {
     "name": "stdout",
     "output_type": "stream",
     "text": [
      "(605, 283) (68, 283)\n",
      "(605, 283) (68, 283)\n"
     ]
    }
   ],
   "source": [
    "def suppress_mean(targets, mean) :\n",
    "    res = targets - np.repeat(mean.reshape((mean.shape[0], 1)), repeats = targets.shape[1], axis = 1)\n",
    "    return res\n",
    "train_targets, valid_targets = targets[list_index_train], targets[~list_index_train]\n",
    "print(train_targets.shape, valid_targets.shape)\n",
    "\n",
    "train_targets_shift = suppress_mean(train_targets,  targets_mean[list_index_train])\n",
    "valid_targets_shift = suppress_mean(valid_targets,  targets_mean[~list_index_train])\n",
    "print(train_targets_shift.shape, valid_targets_shift.shape)\n",
    "\n"
   ]
  },
  {
   "cell_type": "markdown",
   "metadata": {
    "id": "0WvY4LtI66TL"
   },
   "source": [
    "We normalize the targets so that they range between -1 and 1, centered on zero"
   ]
  },
  {
   "cell_type": "code",
   "execution_count": 27,
   "metadata": {
    "id": "5uuZGAjM66TL",
    "tags": []
   },
   "outputs": [
    {
     "data": {
      "text/plain": [
       "((605, 283), (68, 283), 0.0030516885275461087)"
      ]
     },
     "execution_count": 27,
     "metadata": {},
     "output_type": "execute_result"
    }
   ],
   "source": [
    "##### normalization of the targets ###\n",
    "def targets_normalization (data1, data2) :\n",
    "    data_min = data1.min()\n",
    "    data_max = data1.max()\n",
    "    data_abs_max = np.max([data_min, data_max])\n",
    "    data1 = data1/data_abs_max\n",
    "    data2 = data2/data_abs_max\n",
    "    return data1, data2, data_abs_max\n",
    "\n",
    "def targets_norm_back (data, data_abs_max) :\n",
    "    return data * data_abs_max\n",
    "\n",
    "train_targets_norm, valid_targets_norm, targets_abs_max = targets_normalization(train_targets_shift, valid_targets_shift)\n",
    "train_targets_norm.shape, valid_targets_norm.shape, targets_abs_max\n",
    "\n",
    "\n"
   ]
  },
  {
   "cell_type": "code",
   "execution_count": null,
   "metadata": {},
   "outputs": [],
   "source": [
    "plt.figure(figsize=(15,5))\n",
    "\n",
    "for i in range (240) :\n",
    "    plt.plot(wls, train_targets_norm[i], 'g-', alpha = 0.5)\n",
    "plt.plot([], [], 'g-', alpha=0.5, label='Train targets')\n",
    "for i in range (60) :\n",
    "    plt.plot(wls, valid_targets_norm[i], 'r-', alpha = 0.7)\n",
    "plt.plot([], [], 'r-', alpha=0.5, label='Valid targets (true mean)')\n",
    "\n",
    "plt.legend()\n",
    "plt.ylabel(f'$(R_p/R_s)^2$')\n",
    "plt.title('All targets after substracting the mean value and normalization')\n",
    "plt.show()"
   ]
  },
  {
   "cell_type": "code",
   "execution_count": 51,
   "metadata": {
    "id": "q-GJRdCn66TM",
    "tags": []
   },
   "outputs": [
    {
     "name": "stdout",
     "output_type": "stream",
     "text": [
      "(605, 187, 283) (68, 187, 283)\n"
     ]
    }
   ],
   "source": [
    "###### Transpose #####\n",
    "train_obs = train_obs.transpose(0, 2, 1)\n",
    "valid_obs = valid_obs.transpose(0, 2, 1)\n",
    "print(train_obs.shape, valid_obs.shape)\n"
   ]
  },
  {
   "cell_type": "markdown",
   "metadata": {
    "id": "G347qJkF66TM"
   },
   "source": [
    "We cut the transit to keep the in-transit. We assume an arbitrary transit duration of 40 instants with a transit occuring between 75 and 115."
   ]
  },
  {
   "cell_type": "code",
   "execution_count": 52,
   "metadata": {
    "id": "u_UbR13A66TM",
    "tags": []
   },
   "outputs": [
    {
     "name": "stdout",
     "output_type": "stream",
     "text": [
      "(605, 40, 283) (68, 40, 283)\n"
     ]
    }
   ],
   "source": [
    "##### Substracting the out transit signal #####\n",
    "def suppress_out_transit(data, ingress, egress):\n",
    "    data_in = data[:, ingress:egress,:]\n",
    "    return data_in\n",
    "\n",
    "ingress, egress = 75,115\n",
    "train_obs_in = suppress_out_transit(train_obs, ingress, egress)\n",
    "valid_obs_in = suppress_out_transit(valid_obs, ingress, egress)\n",
    "print(train_obs_in.shape, valid_obs_in.shape)\n"
   ]
  },
  {
   "cell_type": "markdown",
   "metadata": {
    "id": "F8bQzwgx66TM"
   },
   "source": [
    "We remove the mean value of the in-transit to get relative data like the targets"
   ]
  },
  {
   "cell_type": "code",
   "execution_count": 54,
   "metadata": {
    "id": "PXCAyac966TM",
    "tags": []
   },
   "outputs": [
    {
     "name": "stdout",
     "output_type": "stream",
     "text": [
      "(605, 40, 283) (68, 40, 283)\n"
     ]
    }
   ],
   "source": [
    "###### Substract the mean #####\n",
    "def substract_data_mean(data):\n",
    "    data_mean = np.zeros(data.shape)\n",
    "    for i in range(data.shape[0]):\n",
    "        data_mean[i] = data[i] - data[i].mean()\n",
    "    return data_mean\n",
    "\n",
    "train_obs_2d_mean = substract_data_mean(train_obs_in)\n",
    "valid_obs_2d_mean = substract_data_mean(valid_obs_in)\n",
    "\n",
    "print(train_obs_2d_mean.shape, valid_obs_2d_mean.shape)\n"
   ]
  },
  {
   "cell_type": "markdown",
   "metadata": {
    "id": "C8W0lyxH66TN"
   },
   "source": [
    "We use the same normalization as for the targets, i.e. between -1 and 1 centered on zero"
   ]
  },
  {
   "cell_type": "code",
   "execution_count": 55,
   "metadata": {
    "id": "n4adys_c66TN",
    "tags": []
   },
   "outputs": [
    {
     "name": "stdout",
     "output_type": "stream",
     "text": [
      "(605, 40, 283) (68, 40, 283) 0.01740636173612864\n"
     ]
    }
   ],
   "source": [
    "##### Normalization dataset #####\n",
    "def data_norm(data1, data2):\n",
    "    data_min = data1.min()\n",
    "    data_max = data1.max()\n",
    "    data_abs_max = np.max([data_min, data_max])\n",
    "    data1 = data1/data_abs_max\n",
    "    data2 = data2/data_abs_max\n",
    "    return data1, data2, data_abs_max\n",
    "\n",
    "\n",
    "def data_normback(data, data_abs_max) :\n",
    "    return data * data_abs_max\n",
    "\n",
    "train_obs_norm, valid_obs_norm, data_abs_max = data_norm(train_obs_2d_mean, valid_obs_2d_mean)\n",
    "print(train_obs_norm.shape, valid_obs_norm.shape, data_abs_max)\n",
    "\n"
   ]
  },
  {
   "cell_type": "code",
   "execution_count": 56,
   "metadata": {
    "tags": []
   },
   "outputs": [
    {
     "data": {
      "text/plain": [
       "(283,)"
      ]
     },
     "execution_count": 56,
     "metadata": {},
     "output_type": "execute_result"
    }
   ],
   "source": [
    "wls.shape"
   ]
  },
  {
   "cell_type": "code",
   "execution_count": 57,
   "metadata": {
    "id": "fG7zX1Pq66TN",
    "tags": []
   },
   "outputs": [
    {
     "data": {
      "image/png": "[encoded data removed]",
      "text/plain": [
       "<Figure size 1080x360 with 1 Axes>"
      ]
     },
     "metadata": {
      "needs_background": "light"
     },
     "output_type": "display_data"
    }
   ],
   "source": [
    "plt.figure(figsize=(15,5))\n",
    "for i in range (train_obs.shape[0]) :\n",
    "    plt.plot(wls, train_obs_norm[i,10], 'g-', alpha = 0.5)\n",
    "plt.plot([], [], 'g-', alpha=0.5, label='Train targets')\n",
    "for i in range (valid_obs.shape[0]) :\n",
    "    plt.plot(wls, valid_obs_norm[i,10], 'r-', alpha = 0.7)\n",
    "plt.plot([], [], 'r-', alpha=0.5, label='Valid targets (true mean)')\n",
    "\n",
    "plt.legend()\n",
    "plt.ylabel(f'$(R_p/R_s)^2$')\n",
    "plt.title('Train and Valid data after substracting the mean value and normalization')\n",
    "plt.show()"
   ]
  },
  {
   "cell_type": "markdown",
   "metadata": {
    "id": "NW65zipT66TN"
   },
   "source": [
    "## Train 2D CNN"
   ]
  },
  {
   "cell_type": "code",
   "execution_count": 63,
   "metadata": {
    "id": "DbMNYPnD66TN",
    "tags": []
   },
   "outputs": [
    {
     "name": "stdout",
     "output_type": "stream",
     "text": [
      "Model: \"model_4\"\n",
      "_________________________________________________________________\n",
      " Layer (type)                Output Shape              Param #   \n",
      "=================================================================\n",
      " input_5 (InputLayer)        [(None, 40, 283, 1)]      0         \n",
      "                                                                 \n",
      " conv2d_24 (Conv2D)          (None, 40, 283, 32)       128       \n",
      "                                                                 \n",
      " max_pooling2d_21 (MaxPooli  (None, 20, 283, 32)       0         \n",
      " ng2D)                                                           \n",
      "                                                                 \n",
      " batch_normalization_7 (Bat  (None, 20, 283, 32)       128       \n",
      " chNormalization)                                                \n",
      "                                                                 \n",
      " conv2d_25 (Conv2D)          (None, 20, 283, 64)       6208      \n",
      "                                                                 \n",
      " max_pooling2d_22 (MaxPooli  (None, 10, 283, 64)       0         \n",
      " ng2D)                                                           \n",
      "                                                                 \n",
      " conv2d_26 (Conv2D)          (None, 10, 283, 128)      24704     \n",
      "                                                                 \n",
      " max_pooling2d_23 (MaxPooli  (None, 5, 283, 128)       0         \n",
      " ng2D)                                                           \n",
      "                                                                 \n",
      " conv2d_27 (Conv2D)          (None, 5, 283, 256)       98560     \n",
      "                                                                 \n",
      " conv2d_28 (Conv2D)          (None, 5, 283, 32)        24608     \n",
      "                                                                 \n",
      " max_pooling2d_24 (MaxPooli  (None, 5, 141, 32)        0         \n",
      " ng2D)                                                           \n",
      "                                                                 \n",
      " batch_normalization_8 (Bat  (None, 5, 141, 32)        128       \n",
      " chNormalization)                                                \n",
      "                                                                 \n",
      " conv2d_29 (Conv2D)          (None, 5, 141, 64)        6208      \n",
      "                                                                 \n",
      " max_pooling2d_25 (MaxPooli  (None, 5, 70, 64)         0         \n",
      " ng2D)                                                           \n",
      "                                                                 \n",
      " conv2d_30 (Conv2D)          (None, 5, 70, 128)        24704     \n",
      "                                                                 \n",
      " max_pooling2d_26 (MaxPooli  (None, 5, 35, 128)        0         \n",
      " ng2D)                                                           \n",
      "                                                                 \n",
      " conv2d_31 (Conv2D)          (None, 5, 35, 256)        98560     \n",
      "                                                                 \n",
      " max_pooling2d_27 (MaxPooli  (None, 5, 17, 256)        0         \n",
      " ng2D)                                                           \n",
      "                                                                 \n",
      " flatten_4 (Flatten)         (None, 21760)             0         \n",
      "                                                                 \n",
      " dense_9 (Dense)             (None, 700)               15232700  \n",
      "                                                                 \n",
      " dropout_5 (Dropout)         (None, 700)               0         \n",
      "                                                                 \n",
      " dense_10 (Dense)            (None, 283)               198383    \n",
      "                                                                 \n",
      "=================================================================\n",
      "Total params: 15715019 (59.95 MB)\n",
      "Trainable params: 15714891 (59.95 MB)\n",
      "Non-trainable params: 128 (512.00 Byte)\n",
      "_________________________________________________________________\n"
     ]
    }
   ],
   "source": [
    "from tensorflow import keras\n",
    "from keras.layers import Input, Conv2D, MaxPooling2D, Flatten, Dense, Concatenate, Reshape, Dropout, BatchNormalization, AveragePooling2D\n",
    "from keras.models import Model\n",
    "import tensorflow as tf\n",
    "import numpy as np\n",
    "\n",
    "## CNN 2 global normalization data\n",
    "input_obs = Input((40,283,1))\n",
    "x = Conv2D(32, (3, 1), activation='relu', padding='same')(input_obs)\n",
    "x = MaxPooling2D((2, 1))(x)\n",
    "x = BatchNormalization() (x)\n",
    "x = Conv2D(64, (3, 1), activation='relu', padding='same')(x)\n",
    "x = MaxPooling2D((2, 1))(x)\n",
    "x = Conv2D(128, (3, 1), activation='relu', padding='same')(x)\n",
    "x = MaxPooling2D((2, 1))(x)\n",
    "x = Conv2D(256, (3, 1), activation='relu', padding='same')(x)\n",
    "x = Conv2D(32, (1, 3), activation='relu', padding='same')(x)\n",
    "x = MaxPooling2D((1, 2))(x)\n",
    "x = BatchNormalization() (x)\n",
    "x = Conv2D(64, (1, 3), activation='relu', padding='same')(x)\n",
    "x = MaxPooling2D((1, 2))(x)\n",
    "x = Conv2D(128, (1, 3), activation='relu', padding='same')(x)\n",
    "x = MaxPooling2D((1, 2))(x)\n",
    "x = Conv2D(256, (1, 3), activation='relu', padding='same')(x)\n",
    "x = MaxPooling2D((1, 2))(x)\n",
    "x = Flatten()(x)\n",
    "# DNN\n",
    "x = Dense(700, activation='relu')(x)\n",
    "x = Dropout(0.2)(x, training = True)\n",
    "output = Dense(283, activation='linear')(x)\n",
    "\n",
    "model = Model(inputs=[input_obs], outputs=output)\n",
    "\n",
    "checkpoint_filepath = f'{output_dir}/model_2dcnn.keras'\n",
    "model_ckt2 = ModelCheckpoint(\n",
    "    checkpoint_filepath,\n",
    "    monitor=\"val_loss\",\n",
    "    verbose=0,\n",
    "    save_best_only=True,\n",
    "    save_weights_only=False,\n",
    "    mode=\"min\",\n",
    "    save_freq=\"epoch\",\n",
    ")\n",
    "model.compile(optimizer=Adam(0.001), loss='mse', metrics=[MeanAbsoluteError()])\n",
    "model.summary()\n",
    "\n"
   ]
  },
  {
   "cell_type": "code",
   "execution_count": null,
   "metadata": {},
   "outputs": [],
   "source": [
    "history = model.fit(\n",
    "     x = train_obs_norm,\n",
    "     y = train_targets_norm,\n",
    "     validation_data = (valid_obs_norm, valid_targets_norm),\n",
    "     batch_size=32,\n",
    "     epochs= 200,\n",
    "     shuffle=True,\n",
    "     verbose=0,\n",
    "    callbacks=[model_ckt2]\n",
    " )\n"
   ]
  },
  {
   "cell_type": "markdown",
   "metadata": {
    "id": "uzTP1vGq66TO"
   },
   "source": [
    "## Postprocessing and visualisation"
   ]
  },
  {
   "cell_type": "markdown",
   "metadata": {
    "id": "m-MvTH1j66TO"
   },
   "source": [
    "We obtain uncertainties on the predictions by computing a MCDropout."
   ]
  },
  {
   "cell_type": "code",
   "execution_count": null,
   "metadata": {
    "execution": {
     "iopub.execute_input": "2024-08-28T10:24:56.646064Z",
     "iopub.status.busy": "2024-08-28T10:24:56.64575Z",
     "iopub.status.idle": "2024-08-28T10:24:58.094042Z",
     "shell.execute_reply": "2024-08-28T10:24:58.092907Z",
     "shell.execute_reply.started": "2024-08-28T10:24:56.646036Z"
    },
    "id": "JQFtBOR166TO"
   },
   "outputs": [],
   "source": [
    "nb_dropout = 5\n",
    "\n",
    "def NN_uncertainity(model, x_test, targets_abs_max, T=5):\n",
    "    predictions = []\n",
    "    for _ in range(T):\n",
    "        pred_norm = model.predict([x_test],verbose=0)\n",
    "        pred = targets_norm_back(pred_norm, targets_abs_max)\n",
    "        predictions += [pred]\n",
    "    mean, std = np.mean(np.array(predictions), axis=0), np.std(np.array(predictions), axis=0)\n",
    "    return mean, std\n",
    "\n",
    "\n",
    "if do_the_mcdropout :\n",
    "    spectre_valid_shift, spectre_valid_shift_std = NN_uncertainity(model, [valid_obs_norm], targets_abs_max, T = nb_dropout)\n",
    "\n",
    "else :\n",
    "\n",
    "    pred_valid_norm = model.predict([valid_obs_norm])\n",
    "    pred_valid = targets_norm_back(pred_valid_norm, targets_abs_max)\n",
    "    spectre_valid_shift = pred_valid\n",
    "    spectre_valid_shift_std = spectre_valid_shift*0.1\n"
   ]
  },
  {
   "cell_type": "code",
   "execution_count": null,
   "metadata": {
    "execution": {
     "iopub.execute_input": "2024-08-28T10:24:58.095552Z",
     "iopub.status.busy": "2024-08-28T10:24:58.095232Z",
     "iopub.status.idle": "2024-08-28T10:24:58.101838Z",
     "shell.execute_reply": "2024-08-28T10:24:58.100803Z",
     "shell.execute_reply.started": "2024-08-28T10:24:58.095524Z"
    },
    "id": "dTBR2BKA66TO"
   },
   "outputs": [],
   "source": [
    "residuals = valid_targets_shift - spectre_valid_shift\n",
    "print('MSE : ', np.sqrt((residuals**2).mean())*1e6, 'ppm')"
   ]
  },
  {
   "cell_type": "code",
   "execution_count": null,
   "metadata": {
    "execution": {
     "iopub.execute_input": "2024-08-28T10:24:58.103358Z",
     "iopub.status.busy": "2024-08-28T10:24:58.103053Z",
     "iopub.status.idle": "2024-08-28T10:24:58.112147Z",
     "shell.execute_reply": "2024-08-28T10:24:58.111179Z",
     "shell.execute_reply.started": "2024-08-28T10:24:58.103327Z"
    },
    "id": "tvbLd4lB66TP"
   },
   "outputs": [],
   "source": [
    "# np.save(f'{output_dir}/pred_valid_shift.npy', spectre_valid_shift)\n",
    "# np.save(f'{output_dir}/targ_valid_shift.npy', valid_targets_shift)\n",
    "# np.save(f'{output_dir}/std_valid_shift.npy', spectre_valid_shift_std)"
   ]
  },
  {
   "cell_type": "code",
   "execution_count": null,
   "metadata": {
    "execution": {
     "iopub.execute_input": "2024-08-28T10:24:58.113854Z",
     "iopub.status.busy": "2024-08-28T10:24:58.113246Z",
     "iopub.status.idle": "2024-08-28T10:24:58.460699Z",
     "shell.execute_reply": "2024-08-28T10:24:58.459616Z",
     "shell.execute_reply.started": "2024-08-28T10:24:58.113828Z"
    },
    "id": "KFaDhFvw66TP"
   },
   "outputs": [],
   "source": [
    "plt.figure()\n",
    "for i in range (50) :\n",
    "    plt.plot(spectre_valid_shift[-i]+0.0001*i, '-', alpha = 0.5)\n",
    "plt.title('Spectra predictions for the validation set')\n",
    "plt.xlabel('Time')\n",
    "plt.ylabel('Arbitrary flux')\n",
    "plt.show()\n"
   ]
  },
  {
   "cell_type": "code",
   "execution_count": null,
   "metadata": {
    "execution": {
     "iopub.execute_input": "2024-08-28T10:24:58.462615Z",
     "iopub.status.busy": "2024-08-28T10:24:58.462279Z",
     "iopub.status.idle": "2024-08-28T10:24:59.960337Z",
     "shell.execute_reply": "2024-08-28T10:24:59.959345Z",
     "shell.execute_reply.started": "2024-08-28T10:24:58.462586Z"
    },
    "id": "rIpkBDLd66TP"
   },
   "outputs": [],
   "source": [
    "list_valid_planets = [0, 12, 35, 60, 70]\n",
    "wavelength = np.loadtxt('/kaggle/input/ariel-data-challenge-2024/wavelengths.csv', skiprows=1, delimiter = ',')\n",
    "uncertainty = spectre_valid_shift_std\n",
    "for i in (list_valid_planets):\n",
    "    plt.figure()\n",
    "    plt.title('Result for the sample {} of the validation set'.format(i))\n",
    "    plt.plot(wavelength, spectre_valid_shift[i], '.k', label = 'Prediction')\n",
    "    plt.plot(wavelength, valid_targets_shift[i], color = 'tomato', label = 'Target')\n",
    "    plt.fill_between(wavelength, spectre_valid_shift[i] - spectre_valid_shift_std[i], spectre_valid_shift[i] + spectre_valid_shift_std[i], color='silver', alpha = 0.8, label = 'Uncertainty')\n",
    "    plt.legend()\n",
    "    plt.ylabel(f'$(R_p/R_s)^2$')\n",
    "    plt.xlabel(f'Wavelength ($\\mu$m)')\n",
    "    plt.show()\n",
    "\n"
   ]
  },
  {
   "cell_type": "markdown",
   "metadata": {
    "id": "XKrpHlnl66TP"
   },
   "source": [
    "# Combine 1D and 2D CNN output for FINAL SPECTRA"
   ]
  },
  {
   "cell_type": "code",
   "execution_count": null,
   "metadata": {
    "execution": {
     "iopub.execute_input": "2024-08-28T10:24:59.961854Z",
     "iopub.status.busy": "2024-08-28T10:24:59.961581Z",
     "iopub.status.idle": "2024-08-28T10:24:59.96746Z",
     "shell.execute_reply": "2024-08-28T10:24:59.966488Z",
     "shell.execute_reply.started": "2024-08-28T10:24:59.96183Z"
    },
    "id": "Ski6to8766TP"
   },
   "outputs": [],
   "source": [
    "######## ADD THE FLUCTUATIONS TO THE MEAN ########\n",
    "def add_the_mean (shift, mean) :\n",
    "    return shift + mean[:,np.newaxis]\n",
    "\n",
    "predictions_valid = add_the_mean(spectre_valid_shift,spectre_valid_wc)\n",
    "\n",
    "predictions_std_valid = np.sqrt(spectre_valid_std_wc[:,np.newaxis]**2 + spectre_valid_shift_std**2)\n"
   ]
  },
  {
   "cell_type": "code",
   "execution_count": null,
   "metadata": {
    "execution": {
     "iopub.execute_input": "2024-08-28T10:24:59.969454Z",
     "iopub.status.busy": "2024-08-28T10:24:59.96877Z",
     "iopub.status.idle": "2024-08-28T10:25:03.140594Z",
     "shell.execute_reply": "2024-08-28T10:25:03.139626Z",
     "shell.execute_reply.started": "2024-08-28T10:24:59.969419Z"
    },
    "id": "piWbWjUv66TQ"
   },
   "outputs": [],
   "source": [
    "uncertainty = predictions_std_valid\n",
    "\n",
    "def plot_one_sample_valid(ax, p):\n",
    "    ax.set_title(f'Result for sample {p} ')\n",
    "    line1, = ax.plot(wavelength, predictions_valid[p], '.k', label='Prediction')\n",
    "    line2, = ax.plot(wavelength, valid_targets[p], color='tomato', label='Target')\n",
    "    ax.fill_between(wavelength, predictions_valid[p, :] - uncertainty[p], predictions_valid[p, :] + uncertainty[p], color='silver', alpha=0.8, label='Uncertainty')\n",
    "    ax.set_ylabel(f'$(R_p/R_s)^2$')\n",
    "    ax.set_xlabel(f'Wavelength ($\\mu$m)')\n",
    "    return line1, line2\n",
    "\n",
    "\n",
    "num_samples = 16\n",
    "rows, cols = 4, 4\n",
    "\n",
    "fig, axs = plt.subplots(rows, cols, figsize=(15, 10))\n",
    "samples = [1, 2, 7, 15, 20, 25, 30, 35, 40, 45, 50, 55, 6, 5, 8, 9]\n",
    "lines = []\n",
    "\n",
    "for i, ax in enumerate(axs.flat):\n",
    "    lines.extend(plot_one_sample_valid(ax, samples[i]))\n",
    "\n",
    "fig.legend(lines[:2], ['Prediction', 'Target'], loc='upper center', ncol=3, bbox_to_anchor=(0.5, -0.05))\n",
    "fig.suptitle('Validation dataset')\n",
    "plt.tight_layout()\n",
    "plt.show()\n"
   ]
  },
  {
   "cell_type": "code",
   "execution_count": null,
   "metadata": {
    "execution": {
     "iopub.execute_input": "2024-08-28T10:25:03.142266Z",
     "iopub.status.busy": "2024-08-28T10:25:03.14191Z",
     "iopub.status.idle": "2024-08-28T10:25:04.306814Z",
     "shell.execute_reply": "2024-08-28T10:25:04.305898Z",
     "shell.execute_reply.started": "2024-08-28T10:25:03.142235Z"
    },
    "id": "XbpIHdSD66TQ"
   },
   "outputs": [],
   "source": [
    "######## PLOTS THE RESULT ########\n",
    "predictions = predictions_valid\n",
    "targets_plot = valid_targets\n",
    "std = predictions_std_valid\n",
    "\n",
    "predictions_concatenated_plot = np.concatenate(predictions, axis=0)\n",
    "wls_concatenated = np.arange(predictions_concatenated_plot.shape[0])\n",
    "targets_concatenated_plot = np.concatenate(targets_plot, axis=0)\n",
    "spectre_valid_std_concatenated = np.concatenate(std, axis=0)\n",
    "residuals = targets_concatenated_plot - predictions_concatenated_plot\n",
    "uncertainty = spectre_valid_std_concatenated\n",
    "\n",
    "fig, axs = plt.subplots(2, 1, figsize=(9, 8), gridspec_kw={'height_ratios': [3, 1]})\n",
    "\n",
    "\n",
    "axs[0].plot(wls_concatenated, predictions_concatenated_plot, '-', color='k', label=\"Prediction\")\n",
    "axs[0].plot(wls_concatenated, targets_concatenated_plot, '-', color='tomato', label=\"Target\")\n",
    "axs[0].fill_between(np.arange(len(wls_concatenated)),\n",
    "                    predictions_concatenated_plot - uncertainty,\n",
    "                    predictions_concatenated_plot + uncertainty,\n",
    "                    color='silver', alpha=1, label='Uncertainty')\n",
    "axs[0].set_xlabel('Concatenated wavelengths for all planets')\n",
    "axs[0].set_ylabel(f'$(R_p/R_s)^2$')\n",
    "axs[0].set_title('Prediction vs target, validation dataset')\n",
    "axs[0].legend()\n",
    "\n",
    "axs[1].plot(wls_concatenated, residuals, '-', color='cornflowerblue', label=\"Residual\")\n",
    "axs[1].fill_between(np.arange(len(wls_concatenated)),\n",
    "                    residuals - uncertainty,\n",
    "                    residuals + uncertainty,\n",
    "                    color='lightblue', alpha=0.9, label='Uncertainty')\n",
    "axs[1].set_xlabel('Concatenated wavelengths for all planets')\n",
    "axs[1].set_ylabel('Residual')\n",
    "axs[1].set_title('Residuals with Uncertainty')\n",
    "axs[1].legend()\n",
    "\n",
    "plt.tight_layout()\n",
    "plt.show()\n",
    "\n",
    "print('MSE : ',np.sqrt((residuals**2).mean())*1e6, 'ppm')"
   ]
  },
  {
   "cell_type": "code",
   "execution_count": null,
   "metadata": {
    "execution": {
     "iopub.execute_input": "2024-08-28T10:25:04.308233Z",
     "iopub.status.busy": "2024-08-28T10:25:04.307962Z",
     "iopub.status.idle": "2024-08-28T10:25:04.312201Z",
     "shell.execute_reply": "2024-08-28T10:25:04.311269Z",
     "shell.execute_reply.started": "2024-08-28T10:25:04.308209Z"
    },
    "id": "S2VkPQnq66TQ"
   },
   "outputs": [],
   "source": [
    "# np.save(f'{output_dir}/pred_valid.npy', predictions_valid)\n",
    "# np.save(f'{output_dir}/std_valid.npy', predictions_std_valid)"
   ]
  }
 ],
 "metadata": {
  "colab": {
   "provenance": []
  },
  "kaggle": {
   "accelerator": "gpu",
   "dataSources": [
    {
     "databundleVersionId": 9188054,
     "sourceId": 70367,
     "sourceType": "competition"
    },
    {
     "datasetId": 5498833,
     "sourceId": 9110664,
     "sourceType": "datasetVersion"
    },
    {
     "datasetId": 5546655,
     "sourceId": 9177563,
     "sourceType": "datasetVersion"
    }
   ],
   "dockerImageVersionId": 30747,
   "isGpuEnabled": true,
   "isInternetEnabled": true,
   "language": "python",
   "sourceType": "notebook"
  },
  "kernelspec": {
   "display_name": "venv_kernel",
   "language": "python",
   "name": "venv_kernel"
  },
  "language_info": {
   "codemirror_mode": {
    "name": "ipython",
    "version": 3
   },
   "file_extension": ".py",
   "mimetype": "text/x-python",
   "name": "python",
   "nbconvert_exporter": "python",
   "pygments_lexer": "ipython3",
   "version": "3.11.5"
  }
 },
 "nbformat": 4,
 "nbformat_minor": 4
}
